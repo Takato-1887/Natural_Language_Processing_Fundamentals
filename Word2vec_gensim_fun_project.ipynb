{
 "cells": [
  {
   "cell_type": "code",
   "execution_count": 1,
   "id": "f2b224f8",
   "metadata": {},
   "outputs": [],
   "source": [
    "import os\n",
    "import numpy"
   ]
  },
  {
   "cell_type": "code",
   "execution_count": 2,
   "id": "2138d897",
   "metadata": {},
   "outputs": [],
   "source": [
    "import sys\n",
    "sys.path.append(r\"\\c:\\users\\dell\\appdata\\roaming\\python\\python38\\site-packages\")"
   ]
  },
  {
   "cell_type": "code",
   "execution_count": 3,
   "id": "e18de7f9",
   "metadata": {},
   "outputs": [],
   "source": [
    "import gensim"
   ]
  },
  {
   "cell_type": "code",
   "execution_count": 4,
   "id": "a2758ea3",
   "metadata": {},
   "outputs": [],
   "source": [
    "from gensim.models import Word2Vec,KeyedVectors"
   ]
  },
  {
   "cell_type": "code",
   "execution_count": 5,
   "id": "f8b14895",
   "metadata": {},
   "outputs": [],
   "source": [
    "from nltk import sent_tokenize\n",
    "from gensim.utils import simple_preprocess\n",
    "\n",
    "story=[]\n",
    "\n",
    "for filename in os.listdir(\"sherlock\"):\n",
    "    f=open(os.path.join(\"sherlock\", filename))\n",
    "    corpus=f.read()\n",
    "    raw_sent=sent_tokenize(corpus)\n",
    "    for sent in raw_sent:\n",
    "        story.append(simple_preprocess(sent))"
   ]
  },
  {
   "cell_type": "code",
   "execution_count": 6,
   "id": "ea06a132",
   "metadata": {},
   "outputs": [
    {
     "data": {
      "text/plain": [
       "161952"
      ]
     },
     "execution_count": 6,
     "metadata": {},
     "output_type": "execute_result"
    }
   ],
   "source": [
    "len(story)"
   ]
  },
  {
   "cell_type": "code",
   "execution_count": 7,
   "id": "edfc5623",
   "metadata": {},
   "outputs": [
    {
     "data": {
      "text/plain": [
       "['the',\n",
       " 'adventure',\n",
       " 'of',\n",
       " 'the',\n",
       " 'three',\n",
       " 'gables',\n",
       " 'arthur',\n",
       " 'conan',\n",
       " 'doyle',\n",
       " 'don',\n",
       " 'think',\n",
       " 'that',\n",
       " 'any',\n",
       " 'of',\n",
       " 'my',\n",
       " 'adventures',\n",
       " 'with',\n",
       " 'mr',\n",
       " 'sherlock',\n",
       " 'holmes']"
      ]
     },
     "execution_count": 7,
     "metadata": {},
     "output_type": "execute_result"
    }
   ],
   "source": [
    "story[0][0:20]"
   ]
  },
  {
   "cell_type": "code",
   "execution_count": 8,
   "id": "12c6c7e2",
   "metadata": {},
   "outputs": [],
   "source": [
    "smodel=gensim.models.Word2Vec(\n",
    "                            window=10,\n",
    "                            min_count=2,\n",
    "                            workers=4)\n"
   ]
  },
  {
   "cell_type": "code",
   "execution_count": 9,
   "id": "57226431",
   "metadata": {},
   "outputs": [],
   "source": [
    "smodel.build_vocab(story)"
   ]
  },
  {
   "cell_type": "code",
   "execution_count": 10,
   "id": "ef0f65ef",
   "metadata": {},
   "outputs": [
    {
     "data": {
      "text/plain": [
       "(8230681, 11256165)"
      ]
     },
     "execution_count": 10,
     "metadata": {},
     "output_type": "execute_result"
    }
   ],
   "source": [
    "smodel.train(story,total_examples=smodel.corpus_count, epochs=smodel.epochs)"
   ]
  },
  {
   "cell_type": "code",
   "execution_count": 11,
   "id": "1ba3785e",
   "metadata": {},
   "outputs": [
    {
     "data": {
      "text/plain": [
       "[('xiv', 0.6108253598213196),\n",
       " ('enigmatical', 0.5829850435256958),\n",
       " ('demonstration', 0.5783674716949463),\n",
       " ('masser', 0.5772295594215393),\n",
       " ('macdonald', 0.5722951889038086),\n",
       " ('ravenous', 0.5708688497543335),\n",
       " ('mycroft', 0.5631936192512512),\n",
       " ('meddler', 0.5613242983818054),\n",
       " ('baynes', 0.5593984723091125),\n",
       " ('thoughtfully', 0.5566838383674622)]"
      ]
     },
     "execution_count": 11,
     "metadata": {},
     "output_type": "execute_result"
    }
   ],
   "source": [
    "smodel.wv.most_similar('sherlock')"
   ]
  },
  {
   "cell_type": "markdown",
   "id": "2fec277f",
   "metadata": {},
   "source": [
    "smodel.wv.doesnt_match(\"watson\",\"sherlock\",\"pipe\",\"mycroft\")"
   ]
  },
  {
   "cell_type": "code",
   "execution_count": 12,
   "id": "0acbf76c",
   "metadata": {},
   "outputs": [
    {
     "data": {
      "text/plain": [
       "'irene'"
      ]
     },
     "execution_count": 12,
     "metadata": {},
     "output_type": "execute_result"
    }
   ],
   "source": [
    "smodel.wv.doesnt_match([\"sherlock\",\"irene\",\"mycroft\"])"
   ]
  },
  {
   "cell_type": "code",
   "execution_count": 13,
   "id": "85086b6b",
   "metadata": {},
   "outputs": [
    {
     "data": {
      "text/plain": [
       "0.07504237"
      ]
     },
     "execution_count": 13,
     "metadata": {},
     "output_type": "execute_result"
    }
   ],
   "source": [
    "smodel.wv.similarity(\"sherlock\",\"watson\")"
   ]
  }
 ],
 "metadata": {
  "kernelspec": {
   "display_name": "TensorFlow Environment",
   "language": "python",
   "name": "tf-env"
  },
  "language_info": {
   "codemirror_mode": {
    "name": "ipython",
    "version": 3
   },
   "file_extension": ".py",
   "mimetype": "text/x-python",
   "name": "python",
   "nbconvert_exporter": "python",
   "pygments_lexer": "ipython3",
   "version": "3.9.18"
  }
 },
 "nbformat": 4,
 "nbformat_minor": 5
}
