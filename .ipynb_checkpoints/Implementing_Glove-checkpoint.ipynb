{
 "cells": [
  {
   "cell_type": "code",
   "execution_count": 20,
   "id": "fe990708-5165-4c6a-9822-ad4ae16e872c",
   "metadata": {},
   "outputs": [],
   "source": [
    "import numpy as np\n",
    "import torch\n",
    "import torch.nn as nn\n",
    "import torch.optim as optim\n",
    "import matplotlib.pyplot as plt"
   ]
  },
  {
   "cell_type": "markdown",
   "id": "1bb42905-a919-453c-b66c-f1bc145f6ece",
   "metadata": {},
   "source": [
    "## 1. Defining simple data for understanding"
   ]
  },
  {
   "cell_type": "code",
   "execution_count": 21,
   "id": "252b6289-71f0-4857-811e-a14892686fa0",
   "metadata": {},
   "outputs": [],
   "source": [
    "corpus = [\"apple banana fruit\", \"banana apple fruit\", \"banana fruit apple\",\n",
    "                 \"dog cat animal\", \"cat animal dog\", \"cat dog animal\"]"
   ]
  },
  {
   "cell_type": "code",
   "execution_count": 22,
   "id": "f162fa0c-95fb-451a-a7f3-af9fdcabdc12",
   "metadata": {},
   "outputs": [
    {
     "data": {
      "text/plain": [
       "[['apple', 'banana', 'fruit'],\n",
       " ['banana', 'apple', 'fruit'],\n",
       " ['banana', 'fruit', 'apple'],\n",
       " ['dog', 'cat', 'animal'],\n",
       " ['cat', 'animal', 'dog'],\n",
       " ['cat', 'dog', 'animal']]"
      ]
     },
     "execution_count": 22,
     "metadata": {},
     "output_type": "execute_result"
    }
   ],
   "source": [
    "corpus = [sent.split(\" \") for sent in corpus]\n",
    "corpus"
   ]
  },
  {
   "cell_type": "code",
   "execution_count": 23,
   "id": "da4b03e1-52a9-44a1-8201-48d8b1451085",
   "metadata": {},
   "outputs": [
    {
     "data": {
      "text/plain": [
       "['apple', 'dog', 'banana', 'fruit', 'animal', 'cat']"
      ]
     },
     "execution_count": 23,
     "metadata": {},
     "output_type": "execute_result"
    }
   ],
   "source": [
    "#get word sequences and unique words\n",
    "flatten = lambda l: [item for sublist in l for item in sublist]\n",
    "vocab = list(set(flatten(corpus)))\n",
    "vocab"
   ]
  },
  {
   "cell_type": "code",
   "execution_count": 24,
   "id": "167a9c63-4c7a-4417-bb26-71f1cee39700",
   "metadata": {},
   "outputs": [
    {
     "name": "stdout",
     "output_type": "stream",
     "text": [
      "{'apple': 0, 'dog': 1, 'banana': 2, 'fruit': 3, 'animal': 4, 'cat': 5}\n"
     ]
    }
   ],
   "source": [
    "#numerical transform\n",
    "word2index = {w: i for i, w in enumerate(vocab)}\n",
    "print(word2index)"
   ]
  },
  {
   "cell_type": "code",
   "execution_count": 25,
   "id": "35b88b43-ead8-4a25-87f1-3ed74d48c845",
   "metadata": {
    "scrolled": true
   },
   "outputs": [
    {
     "name": "stdout",
     "output_type": "stream",
     "text": [
      "6\n"
     ]
    }
   ],
   "source": [
    "#vocab size\n",
    "voc_size = len(vocab)\n",
    "print(voc_size)"
   ]
  },
  {
   "cell_type": "code",
   "execution_count": 26,
   "id": "2fa551fa-bac5-442c-84b1-aa33741453f0",
   "metadata": {},
   "outputs": [],
   "source": [
    "#append UNK\n",
    "vocab.append('<UNK>')"
   ]
  },
  {
   "cell_type": "code",
   "execution_count": 27,
   "id": "67a90b27-eaf4-4c85-bb95-cc315901f8ab",
   "metadata": {},
   "outputs": [
    {
     "data": {
      "text/plain": [
       "['apple', 'dog', 'banana', 'fruit', 'animal', 'cat', '<UNK>']"
      ]
     },
     "execution_count": 27,
     "metadata": {},
     "output_type": "execute_result"
    }
   ],
   "source": [
    "vocab"
   ]
  },
  {
   "cell_type": "code",
   "execution_count": 28,
   "id": "3c3265a5-fab5-4f74-bcc2-c86c7f4ff032",
   "metadata": {},
   "outputs": [],
   "source": [
    "word2index['<UNK>'] = 0"
   ]
  },
  {
   "cell_type": "code",
   "execution_count": 29,
   "id": "d1405759-74d3-489a-85a6-a32ec4140838",
   "metadata": {},
   "outputs": [],
   "source": [
    "#in case of requirement\n",
    "index2word = {v:k for k, v in word2index.items()} "
   ]
  },
  {
   "cell_type": "markdown",
   "id": "dfe8cf88-5c54-48e0-9c56-1d0858ca3cdf",
   "metadata": {},
   "source": [
    "## 2. Build Co-occurence Matrix X"
   ]
  },
  {
   "cell_type": "markdown",
   "id": "c6c755dd-0f89-4efe-bbb0-8448d84b9d5d",
   "metadata": {},
   "source": [
    "Here, we need to count the co-occurence of two words given some window size. We gonna use window size of 1."
   ]
  },
  {
   "cell_type": "code",
   "execution_count": 30,
   "id": "b9892a13-e381-4ea2-adad-fe015dff0ddc",
   "metadata": {},
   "outputs": [
    {
     "data": {
      "text/plain": [
       "Counter({'apple': 3, 'banana': 3, 'fruit': 3, 'dog': 3, 'cat': 3, 'animal': 3})"
      ]
     },
     "execution_count": 30,
     "metadata": {},
     "output_type": "execute_result"
    }
   ],
   "source": [
    "from collections import Counter\n",
    "\n",
    "X_i = Counter(flatten(corpus)) # X_i\n",
    "X_i"
   ]
  },
  {
   "cell_type": "code",
   "execution_count": 31,
   "id": "cf58a287-344d-49bc-b65a-9eee381d78fd",
   "metadata": {},
   "outputs": [
    {
     "data": {
      "text/plain": [
       "[('banana', 'apple'),\n",
       " ('banana', 'fruit'),\n",
       " ('apple', 'banana'),\n",
       " ('apple', 'fruit'),\n",
       " ('fruit', 'banana'),\n",
       " ('fruit', 'apple'),\n",
       " ('cat', 'dog'),\n",
       " ('cat', 'animal'),\n",
       " ('animal', 'cat'),\n",
       " ('animal', 'dog'),\n",
       " ('dog', 'cat'),\n",
       " ('dog', 'animal')]"
      ]
     },
     "execution_count": 31,
     "metadata": {},
     "output_type": "execute_result"
    }
   ],
   "source": [
    "# Make skip gram of one size window\n",
    "skip_grams = []\n",
    "# loop each word sequence\n",
    "# we starts from 1 because 0 has no context\n",
    "# we stop at second last for the same reason\n",
    "for sent in corpus:\n",
    "    for i in range(1, len(sent) - 1):\n",
    "        target = sent[i]\n",
    "        context = [sent[i - 1], sent[i + 1]]\n",
    "        for w in context:\n",
    "            skip_grams.append((target, w))\n",
    "\n",
    "skip_grams"
   ]
  },
  {
   "cell_type": "code",
   "execution_count": 32,
   "id": "09016a1e-87c9-408d-b5cd-8a2a11369fc2",
   "metadata": {},
   "outputs": [
    {
     "data": {
      "text/plain": [
       "Counter({('banana', 'apple'): 1,\n",
       "         ('banana', 'fruit'): 1,\n",
       "         ('apple', 'banana'): 1,\n",
       "         ('apple', 'fruit'): 1,\n",
       "         ('fruit', 'banana'): 1,\n",
       "         ('fruit', 'apple'): 1,\n",
       "         ('cat', 'dog'): 1,\n",
       "         ('cat', 'animal'): 1,\n",
       "         ('animal', 'cat'): 1,\n",
       "         ('animal', 'dog'): 1,\n",
       "         ('dog', 'cat'): 1,\n",
       "         ('dog', 'animal'): 1})"
      ]
     },
     "execution_count": 32,
     "metadata": {},
     "output_type": "execute_result"
    }
   ],
   "source": [
    "X_ik_skipgram = Counter(skip_grams) # Co-occurece in window size 1\n",
    "X_ik_skipgram"
   ]
  },
  {
   "cell_type": "markdown",
   "id": "ce801344-e297-4c80-9c2b-a2cc03b8d6c8",
   "metadata": {},
   "source": [
    "## Weighting function\r\n",
    "GloVe includes a weighting function to scale down too frequent words."
   ]
  },
  {
   "attachments": {
    "13729d0a-c399-4d24-b902-b8ea6200f632.png": {
     "image/png": "[encoded data removed]"
    },
    "b0a0b21f-4311-4dba-8e17-dffb88c05e75.png": {
     "image/png": "[encoded data removed]"
    }
   },
   "cell_type": "markdown",
   "id": "9a965226-4d1f-4def-868e-6cbcde8bc4d1",
   "metadata": {},
   "source": [
    "![image.png](attachment:b0a0b21f-4311-4dba-8e17-dffb88c05e75.png)![image.png](attachment:13729d0a-c399-4d24-b902-b8ea6200f632.png)"
   ]
  },
  {
   "cell_type": "code",
   "execution_count": 33,
   "id": "eb0ed0e8-33d8-4db5-a4d0-0b5eb9f363d8",
   "metadata": {},
   "outputs": [],
   "source": [
    "#basic ormalization function\n",
    "def weighting(w_i, w_j, X_ik):\n",
    "        \n",
    "    #check whether the co-occurrences exist between these two words\n",
    "    try:\n",
    "        x_ij = X_ik[(w_i, w_j)]\n",
    "    except:\n",
    "        x_ij = 1  #if does not exist, set it to 1\n",
    "                \n",
    "    x_max = 100 #100 # fixed in paper  #cannot exceed 100 counts\n",
    "    alpha = 0.75\n",
    "    \n",
    "    #if co-occurrence does not exceed 100, scale it based on some alpha\n",
    "    if x_ij < x_max:\n",
    "        result = (x_ij/x_max)**alpha  #scale it\n",
    "    else:\n",
    "        result = 1  #if is greater than max, set it to 1 maximum\n",
    "    \n",
    "    return result"
   ]
  },
  {
   "cell_type": "code",
   "execution_count": 34,
   "id": "71b017ba-a355-495f-aac1-c5ec04319751",
   "metadata": {},
   "outputs": [
    {
     "name": "stdout",
     "output_type": "stream",
     "text": [
      "X_ik={('apple', 'banana'): 2, ('banana', 'apple'): 2, ('apple', 'fruit'): 2, ('fruit', 'apple'): 2, ('dog', 'animal'): 2, ('animal', 'dog'): 2, ('dog', 'cat'): 2, ('cat', 'dog'): 2, ('banana', 'fruit'): 2, ('fruit', 'banana'): 2, ('animal', 'cat'): 2, ('cat', 'animal'): 2}\n",
      "weighting_dic={('apple', 'apple'): 0.03162277660168379, ('apple', 'dog'): 0.03162277660168379, ('dog', 'apple'): 0.03162277660168379, ('apple', 'banana'): 0.053182958969449884, ('banana', 'apple'): 0.053182958969449884, ('apple', 'fruit'): 0.053182958969449884, ('fruit', 'apple'): 0.053182958969449884, ('apple', 'animal'): 0.03162277660168379, ('animal', 'apple'): 0.03162277660168379, ('apple', 'cat'): 0.03162277660168379, ('cat', 'apple'): 0.03162277660168379, ('apple', '<UNK>'): 0.03162277660168379, ('<UNK>', 'apple'): 0.03162277660168379, ('dog', 'dog'): 0.03162277660168379, ('dog', 'banana'): 0.03162277660168379, ('banana', 'dog'): 0.03162277660168379, ('dog', 'fruit'): 0.03162277660168379, ('fruit', 'dog'): 0.03162277660168379, ('dog', 'animal'): 0.053182958969449884, ('animal', 'dog'): 0.053182958969449884, ('dog', 'cat'): 0.053182958969449884, ('cat', 'dog'): 0.053182958969449884, ('dog', '<UNK>'): 0.03162277660168379, ('<UNK>', 'dog'): 0.03162277660168379, ('banana', 'banana'): 0.03162277660168379, ('banana', 'fruit'): 0.053182958969449884, ('fruit', 'banana'): 0.053182958969449884, ('banana', 'animal'): 0.03162277660168379, ('animal', 'banana'): 0.03162277660168379, ('banana', 'cat'): 0.03162277660168379, ('cat', 'banana'): 0.03162277660168379, ('banana', '<UNK>'): 0.03162277660168379, ('<UNK>', 'banana'): 0.03162277660168379, ('fruit', 'fruit'): 0.03162277660168379, ('fruit', 'animal'): 0.03162277660168379, ('animal', 'fruit'): 0.03162277660168379, ('fruit', 'cat'): 0.03162277660168379, ('cat', 'fruit'): 0.03162277660168379, ('fruit', '<UNK>'): 0.03162277660168379, ('<UNK>', 'fruit'): 0.03162277660168379, ('animal', 'animal'): 0.03162277660168379, ('animal', 'cat'): 0.053182958969449884, ('cat', 'animal'): 0.053182958969449884, ('animal', '<UNK>'): 0.03162277660168379, ('<UNK>', 'animal'): 0.03162277660168379, ('cat', 'cat'): 0.03162277660168379, ('cat', '<UNK>'): 0.03162277660168379, ('<UNK>', 'cat'): 0.03162277660168379, ('<UNK>', '<UNK>'): 0.03162277660168379}\n"
     ]
    }
   ],
   "source": [
    "from itertools import combinations_with_replacement\n",
    "\n",
    "X_ik = {}  #for keeping the co-occurences\n",
    "weighting_dic = {} #scaling the percentage of sampling\n",
    "\n",
    "for bigram in combinations_with_replacement(vocab, 2):\n",
    "    if X_ik_skipgram.get(bigram) is not None:  #matches \n",
    "        co_occer = X_ik_skipgram[bigram]  #get the count from what we already counted\n",
    "        X_ik[bigram] = co_occer + 1 # + 1 for stability issue\n",
    "        X_ik[(bigram[1],bigram[0])] = co_occer+1   #count also for the opposite\n",
    "    else:\n",
    "        pass\n",
    "        \n",
    "    weighting_dic[bigram] = weighting(bigram[0], bigram[1], X_ik)\n",
    "    weighting_dic[(bigram[1], bigram[0])] = weighting(bigram[1], bigram[0], X_ik)\n",
    "\n",
    "print(f\"{X_ik=}\")\n",
    "print(f\"{weighting_dic=}\")"
   ]
  },
  {
   "cell_type": "markdown",
   "id": "90a30e41-d30b-485c-a1fe-938c70d37bce",
   "metadata": {},
   "source": [
    "## 3. Prepare train data"
   ]
  },
  {
   "cell_type": "code",
   "execution_count": 35,
   "id": "8784b168-8897-49d8-8416-94c7d38a3758",
   "metadata": {},
   "outputs": [
    {
     "name": "stdout",
     "output_type": "stream",
     "text": [
      "['apple', 'banana', 'fruit']\n",
      "['banana', 'apple', 'fruit']\n",
      "['banana', 'fruit', 'apple']\n",
      "['dog', 'cat', 'animal']\n",
      "['cat', 'animal', 'dog']\n",
      "['cat', 'dog', 'animal']\n"
     ]
    }
   ],
   "source": [
    "for c in corpus:\n",
    "    print(c)"
   ]
  },
  {
   "cell_type": "code",
   "execution_count": 36,
   "id": "2a8254af-d14f-429a-b735-2303eebc1679",
   "metadata": {},
   "outputs": [],
   "source": [
    "import numpy as np\n",
    "import math\n",
    "\n",
    "def random_batch(batch_size, skip_grams, X_ik, weighting_dic):\n",
    "    \"\"\"\n",
    "    Simplified version that generates a random batch of training data\n",
    "    \n",
    "    Args:\n",
    "        batch_size: Number of samples to return\n",
    "        skip_grams: List of (target_word, context_word) tuples\n",
    "        X_ik: Co-occurrence dictionary\n",
    "        weighting_dic: Weighting dictionary\n",
    "    \n",
    "    Returns:\n",
    "        inputs: Target word indices (shape: [batch_size, 1])\n",
    "        labels: Context word indices (shape: [batch_size, 1])\n",
    "        coocs: Log co-occurrence values (shape: [batch_size, 1])\n",
    "        weights: Weighting values (shape: [batch_size, 1])\n",
    "    \"\"\"\n",
    "    # Convert words to indices\n",
    "    skip_grams_id = [(word2index[t], word2index[c]) for t, c in skip_grams]\n",
    "    \n",
    "    # Randomly select samples\n",
    "    indices = np.random.choice(len(skip_grams_id), batch_size, replace=False)\n",
    "    \n",
    "    # Prepare batch data\n",
    "    inputs, labels, coocs, weights = [], [], [], []\n",
    "    \n",
    "    for idx in indices:\n",
    "        target, context = skip_grams_id[idx]\n",
    "        word_pair = skip_grams[idx]\n",
    "        \n",
    "        inputs.append([target])\n",
    "        labels.append([context])\n",
    "        \n",
    "        # Get co-occurrence (default to 1 if missing)\n",
    "        cooc = X_ik.get(word_pair, 1)\n",
    "        coocs.append([math.log(cooc)])\n",
    "        \n",
    "        # Get weighting\n",
    "        weights.append([weighting_dic[word_pair]])\n",
    "    \n",
    "    return (\n",
    "        np.array(inputs),\n",
    "        np.array(labels),\n",
    "        np.array(coocs),\n",
    "        np.array(weights)\n",
    "    )"
   ]
  },
  {
   "cell_type": "code",
   "execution_count": 37,
   "id": "06606599-d586-4d1a-8f00-6f4fd1ef8c21",
   "metadata": {},
   "outputs": [
    {
     "name": "stdout",
     "output_type": "stream",
     "text": [
      "=== Testing random_batch ===\n",
      "\n",
      "Input words:\n",
      "['apple', 'dog']\n",
      "Input indices: [[0]\n",
      " [3]]\n",
      "\n",
      "Target words:\n",
      "['fruit', 'cat']\n",
      "Target indices: [[2]\n",
      " [4]]\n",
      "\n",
      "Co-occurrence values (log): [[1.79175947]\n",
      " [1.60943791]]\n",
      "Weighting values: [[0.5]\n",
      " [0.7]]\n",
      "\n",
      "=== Testing randomness ===\n",
      "\n",
      "Batch 1:\n",
      "Input: [4 0] -> ['cat', 'apple']\n",
      "Target: [5 2] -> ['animal', 'fruit']\n",
      "\n",
      "Batch 2:\n",
      "Input: [3 4] -> ['dog', 'cat']\n",
      "Target: [4 5] -> ['cat', 'animal']\n",
      "\n",
      "Batch 3:\n",
      "Input: [0 4] -> ['apple', 'cat']\n",
      "Target: [2 5] -> ['fruit', 'animal']\n"
     ]
    }
   ],
   "source": [
    "# Test setup\n",
    "import numpy as np\n",
    "import math\n",
    "\n",
    "# Sample vocabulary and word2index\n",
    "vocab = [\"apple\", \"banana\", \"fruit\", \"dog\", \"cat\", \"animal\"]\n",
    "word2index = {word:i for i, word in enumerate(vocab)}\n",
    "\n",
    "# Sample skip_grams (as word pairs)\n",
    "skip_grams = [\n",
    "    (\"apple\", \"banana\"),\n",
    "    (\"banana\", \"fruit\"),\n",
    "    (\"dog\", \"cat\"),\n",
    "    (\"cat\", \"animal\"),\n",
    "    (\"apple\", \"fruit\")\n",
    "]\n",
    "\n",
    "# Sample co-occurrence counts (X_ik)\n",
    "X_ik = {\n",
    "    (\"apple\", \"banana\"): 10,\n",
    "    (\"banana\", \"fruit\"): 8,\n",
    "    (\"dog\", \"cat\"): 5,\n",
    "    (\"cat\", \"animal\"): 3,\n",
    "    (\"apple\", \"fruit\"): 6\n",
    "}\n",
    "\n",
    "# Sample weighting dictionary\n",
    "weighting_dic = {\n",
    "    (\"apple\", \"banana\"): 0.9,\n",
    "    (\"banana\", \"fruit\"): 0.8,\n",
    "    (\"dog\", \"cat\"): 0.7,\n",
    "    (\"cat\", \"animal\"): 0.6,\n",
    "    (\"apple\", \"fruit\"): 0.5\n",
    "}\n",
    "\n",
    "# Testing the function\n",
    "print(\"=== Testing random_batch ===\")\n",
    "batch_size = 2\n",
    "input_batch, target_batch, cooc_batch, weighting_batch = random_batch(\n",
    "    batch_size, skip_grams, X_ik, weighting_dic\n",
    ")\n",
    "\n",
    "print(\"\\nInput words:\")\n",
    "print([vocab[idx[0]] for idx in input_batch])\n",
    "print(\"Input indices:\", input_batch)\n",
    "\n",
    "print(\"\\nTarget words:\")\n",
    "print([vocab[idx[0]] for idx in target_batch])\n",
    "print(\"Target indices:\", target_batch)\n",
    "\n",
    "print(\"\\nCo-occurrence values (log):\", cooc_batch)\n",
    "print(\"Weighting values:\", weighting_batch)\n",
    "\n",
    "# Additional test to show multiple runs give different batches\n",
    "print(\"\\n=== Testing randomness ===\")\n",
    "for i in range(3):\n",
    "    ib, tb, cb, wb = random_batch(2, skip_grams, X_ik, weighting_dic)\n",
    "    print(f\"\\nBatch {i+1}:\")\n",
    "    print(\"Input:\", ib[:,0], \"->\", [vocab[idx] for idx in ib[:,0]])\n",
    "    print(\"Target:\", tb[:,0], \"->\", [vocab[idx] for idx in tb[:,0]])"
   ]
  },
  {
   "cell_type": "code",
   "execution_count": 38,
   "id": "da9efe3a-a482-4835-827e-a602011e3d44",
   "metadata": {},
   "outputs": [],
   "source": [
    "class GloVe(nn.Module):\n",
    "    \n",
    "    def __init__(self, vocab_size,embed_size):\n",
    "        super(GloVe,self).__init__()\n",
    "        self.embedding_v = nn.Embedding(vocab_size, embed_size) # center embedding\n",
    "        self.embedding_u = nn.Embedding(vocab_size, embed_size) # out embedding\n",
    "        \n",
    "        self.v_bias = nn.Embedding(vocab_size, 1)\n",
    "        self.u_bias = nn.Embedding(vocab_size, 1)\n",
    "        \n",
    "    def forward(self, center_words, target_words, coocs, weighting):\n",
    "        center_embeds = self.embedding_v(center_words) # [batch_size, 1, emb_size]\n",
    "        target_embeds = self.embedding_u(target_words) # [batch_size, 1, emb_size]\n",
    "        \n",
    "        center_bias = self.v_bias(center_words).squeeze(1)\n",
    "        target_bias = self.u_bias(target_words).squeeze(1)\n",
    "        \n",
    "        inner_product = target_embeds.bmm(center_embeds.transpose(1, 2)).squeeze(2)\n",
    "        #[batch_size, 1, emb_size] @ [batch_size, emb_size, 1] = [batch_size, 1, 1] = [batch_size, 1]\n",
    "        \n",
    "        #note that coocs already got log\n",
    "        loss = weighting*torch.pow(inner_product +center_bias + target_bias - coocs, 2)\n",
    "        \n",
    "        return torch.sum(loss)"
   ]
  },
  {
   "cell_type": "markdown",
   "id": "4dc4ca10-1289-444b-ad9c-365588770dcc",
   "metadata": {},
   "source": [
    "## 5.Training"
   ]
  },
  {
   "cell_type": "code",
   "execution_count": 39,
   "id": "9ac47e40-09f0-48f4-a4eb-fe4e8960b4a1",
   "metadata": {},
   "outputs": [],
   "source": [
    "batch_size     = 10 # mini-batch size\n",
    "embedding_size = 2 #so we can later plot\n",
    "model          = GloVe(voc_size, embedding_size)\n",
    "\n",
    "criterion = nn.CrossEntropyLoss()\n",
    "optimizer = optim.Adam(model.parameters(), lr=0.001)"
   ]
  },
  {
   "cell_type": "code",
   "execution_count": null,
   "id": "5d00bdcb-26d8-433f-b49b-fb228bf4571b",
   "metadata": {},
   "outputs": [],
   "source": []
  }
 ],
 "metadata": {
  "kernelspec": {
   "display_name": "TensorFlow Environment",
   "language": "python",
   "name": "tf-env"
  },
  "language_info": {
   "codemirror_mode": {
    "name": "ipython",
    "version": 3
   },
   "file_extension": ".py",
   "mimetype": "text/x-python",
   "name": "python",
   "nbconvert_exporter": "python",
   "pygments_lexer": "ipython3",
   "version": "3.9.18"
  }
 },
 "nbformat": 4,
 "nbformat_minor": 5
}
