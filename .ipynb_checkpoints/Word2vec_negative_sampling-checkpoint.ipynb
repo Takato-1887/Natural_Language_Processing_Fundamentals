{
 "cells": [
  {
   "cell_type": "code",
   "execution_count": 35,
   "id": "3da83c5a-4991-42e0-8244-1ff315ce6eed",
   "metadata": {},
   "outputs": [],
   "source": [
    "import numpy as np\n",
    "import torch\n",
    "import torch.nn as nn\n",
    "import torch.optim as optim\n",
    "import matplotlib.pyplot as plt\n",
    "import torch.nn.functional as F"
   ]
  },
  {
   "cell_type": "markdown",
   "id": "cfdcac31-11cd-48dc-b39a-8319237145cd",
   "metadata": {},
   "source": [
    "## Define Sample Data"
   ]
  },
  {
   "cell_type": "code",
   "execution_count": 36,
   "id": "1a490f57-21b1-4c8b-83b3-97583e9c3585",
   "metadata": {},
   "outputs": [],
   "source": [
    "corpus = [\"apple banana fruit\", \"banana apple fruit\", \"banana fruit apple\",\n",
    "                 \"dog cat animal\", \"cat animal dog\", \"cat dog animal\"]"
   ]
  },
  {
   "cell_type": "code",
   "execution_count": 37,
   "id": "cff67272-3337-49dc-b518-1b182968de12",
   "metadata": {},
   "outputs": [
    {
     "data": {
      "text/plain": [
       "[['apple', 'banana', 'fruit'],\n",
       " ['banana', 'apple', 'fruit'],\n",
       " ['banana', 'fruit', 'apple'],\n",
       " ['dog', 'cat', 'animal'],\n",
       " ['cat', 'animal', 'dog'],\n",
       " ['cat', 'dog', 'animal']]"
      ]
     },
     "execution_count": 37,
     "metadata": {},
     "output_type": "execute_result"
    }
   ],
   "source": [
    "corpus = [sent.split(\" \") for sent in corpus]\n",
    "corpus"
   ]
  },
  {
   "cell_type": "code",
   "execution_count": 38,
   "id": "43350b21-e414-4582-81c0-66dc15f1b55d",
   "metadata": {},
   "outputs": [
    {
     "data": {
      "text/plain": [
       "['apple', 'cat', 'animal', 'banana', 'fruit', 'dog']"
      ]
     },
     "execution_count": 38,
     "metadata": {},
     "output_type": "execute_result"
    }
   ],
   "source": [
    "#extracting unique words\n",
    "flatten = lambda l: [item for sublist in l for item in sublist]\n",
    "vocab = list(set(flatten(corpus)))\n",
    "vocab"
   ]
  },
  {
   "cell_type": "code",
   "execution_count": 39,
   "id": "60101ca1-15ae-43c0-903c-2c329c2d64e4",
   "metadata": {},
   "outputs": [
    {
     "name": "stdout",
     "output_type": "stream",
     "text": [
      "{'apple': 0, 'cat': 1, 'animal': 2, 'banana': 3, 'fruit': 4, 'dog': 5}\n"
     ]
    }
   ],
   "source": [
    "#appending number for each word in the set\n",
    "word2index = {w: i for i, w in enumerate(vocab)}\n",
    "print(word2index)"
   ]
  },
  {
   "cell_type": "code",
   "execution_count": 40,
   "id": "6692ae17-17ca-41be-9204-b7034282b707",
   "metadata": {},
   "outputs": [
    {
     "name": "stdout",
     "output_type": "stream",
     "text": [
      "6\n"
     ]
    }
   ],
   "source": [
    "#vocab size\n",
    "voc_size = len(vocab)\n",
    "print(voc_size)"
   ]
  },
  {
   "cell_type": "code",
   "execution_count": 41,
   "id": "8e30e530-5097-4a34-b738-12b7db634316",
   "metadata": {},
   "outputs": [],
   "source": [
    "#append UNK\n",
    "vocab.append('<UNK>')"
   ]
  },
  {
   "cell_type": "code",
   "execution_count": 42,
   "id": "a8469afb-2f61-4be5-8134-080a1e4536fb",
   "metadata": {},
   "outputs": [
    {
     "data": {
      "text/plain": [
       "['apple', 'cat', 'animal', 'banana', 'fruit', 'dog', '<UNK>']"
      ]
     },
     "execution_count": 42,
     "metadata": {},
     "output_type": "execute_result"
    }
   ],
   "source": [
    "vocab"
   ]
  },
  {
   "cell_type": "code",
   "execution_count": 43,
   "id": "f76cb903-2b90-4d08-96f4-5e773faa2031",
   "metadata": {},
   "outputs": [],
   "source": [
    "#defining a method to get the word through index\n",
    "index2word = {v:k for k, v in word2index.items()} "
   ]
  },
  {
   "cell_type": "markdown",
   "id": "b5efe6e8-715a-4323-8e54-cbbc5668d89b",
   "metadata": {},
   "source": [
    "## Data Preparation"
   ]
  },
  {
   "cell_type": "code",
   "execution_count": 44,
   "id": "ceda5be8-102e-4e7c-ac14-79ffdd0b52da",
   "metadata": {},
   "outputs": [],
   "source": [
    "def random_batch(batch_size, word_sequence):\n",
    "    \n",
    "    # Make skip gram of one size window\n",
    "    skip_grams = []\n",
    "    for sent in corpus:\n",
    "        for i in range(1, len(sent) - 1):\n",
    "            target = word2index[sent[i]]\n",
    "            context = [word2index[sent[i - 1]], word2index[sent[i + 1]]]\n",
    "            for w in context:\n",
    "                skip_grams.append([target, w])\n",
    "    \n",
    "    random_inputs = []\n",
    "    random_labels = []\n",
    "    random_index = np.random.choice(range(len(skip_grams)), batch_size, replace=False) #randomly pick without replacement\n",
    "        \n",
    "    for i in random_index:\n",
    "        random_inputs.append([skip_grams[i][0]])  # target, e.g., 2\n",
    "        random_labels.append([skip_grams[i][1]])  # context word, e.g., 3\n",
    "            \n",
    "    return np.array(random_inputs), np.array(random_labels)"
   ]
  },
  {
   "cell_type": "code",
   "execution_count": 45,
   "id": "0bcbed0f-c099-4c10-a63b-1afb61c1107f",
   "metadata": {},
   "outputs": [
    {
     "name": "stdout",
     "output_type": "stream",
     "text": [
      "Input:  [[4]\n",
      " [2]]\n",
      "Target:  [[0]\n",
      " [5]]\n"
     ]
    }
   ],
   "source": [
    "#testing the method\n",
    "batch_size = 2 # mini-batch size\n",
    "input_batch, target_batch = random_batch(batch_size, corpus)\n",
    "\n",
    "print(\"Input: \",  input_batch)\n",
    "print(\"Target: \", target_batch)"
   ]
  },
  {
   "cell_type": "code",
   "execution_count": 46,
   "id": "a89c2ca4-fd84-487c-9527-da3874c507d4",
   "metadata": {},
   "outputs": [
    {
     "data": {
      "text/plain": [
       "((2, 1), (2, 1))"
      ]
     },
     "execution_count": 46,
     "metadata": {},
     "output_type": "execute_result"
    }
   ],
   "source": [
    "input_batch.shape, target_batch.shape"
   ]
  },
  {
   "attachments": {
    "d232a585-8f82-4deb-b9ba-e3e7fc16980c.png": {
     "image/png": "[encoded data removed]"
    }
   },
   "cell_type": "markdown",
   "id": "c10fac73-5fa8-4407-848e-7fd4a95e6bbf",
   "metadata": {},
   "source": [
    "## Negative Sampling\n",
    "![image.png](attachment:d232a585-8f82-4deb-b9ba-e3e7fc16980c.png)"
   ]
  },
  {
   "cell_type": "code",
   "execution_count": 47,
   "id": "5f43aacf-af4c-4a44-a7ac-1ee98ee0f463",
   "metadata": {},
   "outputs": [],
   "source": [
    "Z = 0.001\n"
   ]
  },
  {
   "cell_type": "code",
   "execution_count": 48,
   "id": "411131de-7f72-491d-bcc2-1dfa7913ee2d",
   "metadata": {},
   "outputs": [],
   "source": [
    "from collections import Counter\n",
    "\n",
    "word_count = Counter(flatten(corpus))\n",
    "num_total_words = sum([c for w, c in word_count.items()])"
   ]
  },
  {
   "cell_type": "code",
   "execution_count": 49,
   "id": "dae03ff5-4f3d-4936-85eb-644a41db5238",
   "metadata": {},
   "outputs": [
    {
     "data": {
      "text/plain": [
       "0"
      ]
     },
     "execution_count": 49,
     "metadata": {},
     "output_type": "execute_result"
    }
   ],
   "source": [
    "word_count[',']"
   ]
  },
  {
   "cell_type": "code",
   "execution_count": 50,
   "id": "2ea41b5d-93ac-4662-a85d-e4d0a8ca43c5",
   "metadata": {},
   "outputs": [],
   "source": [
    "unigram_table = []\n",
    "\n",
    "for vo in vocab:\n",
    "    unigram_table.extend([vo] * int(((word_count[vo]/num_total_words)**0.75)/Z))"
   ]
  },
  {
   "cell_type": "code",
   "execution_count": 51,
   "id": "ffc0e7c8-3891-4df4-8b59-cc3d0cfc190a",
   "metadata": {},
   "outputs": [
    {
     "data": {
      "text/plain": [
       "Counter({'apple': 260,\n",
       "         'cat': 260,\n",
       "         'animal': 260,\n",
       "         'banana': 260,\n",
       "         'fruit': 260,\n",
       "         'dog': 260})"
      ]
     },
     "execution_count": 51,
     "metadata": {},
     "output_type": "execute_result"
    }
   ],
   "source": [
    "Counter(unigram_table)"
   ]
  },
  {
   "cell_type": "code",
   "execution_count": 52,
   "id": "4554d4ae-328a-48cc-be23-12a53a2cd262",
   "metadata": {},
   "outputs": [],
   "source": [
    "import random\n",
    "\n",
    "def prepare_sequence(seq, word2index):\n",
    "    idxs = list(map(lambda w: word2index[w] if word2index.get(w) is not None else word2index[\"<UNK>\"], seq))\n",
    "    return torch.LongTensor(idxs)\n",
    "\n",
    "def negative_sampling(targets, unigram_table, k):\n",
    "    batch_size = targets.size(0)\n",
    "    neg_samples = []\n",
    "    for i in range(batch_size):\n",
    "        nsample = []\n",
    "        target_index = targets[i].item()\n",
    "        while len(nsample) < k: # num of sampling\n",
    "            neg = random.choice(unigram_table)\n",
    "            if word2index[neg] == target_index:\n",
    "                continue\n",
    "            nsample.append(neg)\n",
    "        neg_samples.append(prepare_sequence(nsample, word2index).view(1, -1))\n",
    "    return torch.cat(neg_samples)"
   ]
  },
  {
   "cell_type": "code",
   "execution_count": 53,
   "id": "5b39a18f-025a-428c-8403-2e934628a86d",
   "metadata": {},
   "outputs": [],
   "source": [
    "input_batch  = torch.Tensor(input_batch)\n",
    "target_batch = torch.LongTensor(target_batch)"
   ]
  },
  {
   "cell_type": "code",
   "execution_count": 54,
   "id": "b5880b62-a67e-456d-9e64-3da2aa6c8b7f",
   "metadata": {},
   "outputs": [
    {
     "data": {
      "text/plain": [
       "torch.Size([2, 1])"
      ]
     },
     "execution_count": 54,
     "metadata": {},
     "output_type": "execute_result"
    }
   ],
   "source": [
    "target_batch.shape"
   ]
  },
  {
   "cell_type": "code",
   "execution_count": 55,
   "id": "ee29d63b-1f82-480d-8d85-64e9369e324a",
   "metadata": {},
   "outputs": [
    {
     "data": {
      "text/plain": [
       "tensor([[4, 4, 1],\n",
       "        [3, 4, 3]])"
      ]
     },
     "execution_count": 55,
     "metadata": {},
     "output_type": "execute_result"
    }
   ],
   "source": [
    "num_neg = 3\n",
    "negative_sampling(target_batch, unigram_table, num_neg)"
   ]
  },
  {
   "cell_type": "code",
   "execution_count": 56,
   "id": "47864f9b-56a9-4689-8431-d9d319463f2e",
   "metadata": {},
   "outputs": [
    {
     "data": {
      "text/plain": [
       "tensor([5])"
      ]
     },
     "execution_count": 56,
     "metadata": {},
     "output_type": "execute_result"
    }
   ],
   "source": [
    "target_batch[1]"
   ]
  },
  {
   "cell_type": "markdown",
   "id": "e72a8619-223a-4943-952f-b1eed9eb302d",
   "metadata": {},
   "source": [
    "## Model"
   ]
  },
  {
   "cell_type": "code",
   "execution_count": 57,
   "id": "aee61882-37e7-4062-8802-caf3e92fb54a",
   "metadata": {},
   "outputs": [],
   "source": [
    "class SkipgramNegSampling(nn.Module):\n",
    "    \n",
    "    def __init__(self, vocab_size, emb_size):\n",
    "        super(SkipgramNegSampling, self).__init__()\n",
    "        self.embedding_v = nn.Embedding(vocab_size, emb_size) # center embedding\n",
    "        self.embedding_u = nn.Embedding(vocab_size, emb_size) # out embedding\n",
    "        self.logsigmoid = nn.LogSigmoid()\n",
    "                    \n",
    "    def forward(self, center_words, target_words, negative_words):\n",
    "        center_embeds = self.embedding_v(center_words) # [batch_size, 1, emb_size]\n",
    "        target_embeds = self.embedding_u(target_words) # [batch_size, 1, emb_size]\n",
    "        neg_embeds    = -self.embedding_u(negative_words) # [batch_size, num_neg, emb_size]\n",
    "        \n",
    "        positive_score = target_embeds.bmm(center_embeds.transpose(1, 2)).squeeze(2)\n",
    "        #[batch_size, 1, emb_size] @ [batch_size, emb_size, 1] = [batch_size, 1, 1] = [batch_size, 1]\n",
    "        \n",
    "        negative_score = neg_embeds.bmm(center_embeds.transpose(1, 2))\n",
    "        #[batch_size, k, emb_size] @ [batch_size, emb_size, 1] = [batch_size, k, 1]\n",
    "        \n",
    "        loss = self.logsigmoid(positive_score) + torch.sum(self.logsigmoid(negative_score), 1)\n",
    "                \n",
    "        return -torch.mean(loss)\n",
    "    \n",
    "    def prediction(self, inputs):\n",
    "        embeds = self.embedding_v(inputs)\n",
    "        \n",
    "        return embeds"
   ]
  },
  {
   "cell_type": "markdown",
   "id": "8dc78005-4f3e-4015-b300-17a0ce43f23f",
   "metadata": {},
   "source": [
    "## Training"
   ]
  },
  {
   "cell_type": "code",
   "execution_count": 58,
   "id": "f2238234-dfa0-4b35-92ff-73042f09a823",
   "metadata": {},
   "outputs": [],
   "source": [
    "batch_size     = 2 # mini-batch size\n",
    "embedding_size = 2 #so we can later plot\n",
    "model          = SkipgramNegSampling(voc_size, embedding_size)\n",
    "num_neg        = 10 # num of negative sampling\n",
    "\n",
    "optimizer = optim.Adam(model.parameters(), lr=0.001)"
   ]
  },
  {
   "cell_type": "code",
   "execution_count": 59,
   "id": "10360f7d-e17a-47f2-b9a0-153f8bc6ffa5",
   "metadata": {},
   "outputs": [],
   "source": [
    "def epoch_time(start_time, end_time):\n",
    "    elapsed_time = end_time - start_time\n",
    "    elapsed_mins = int(elapsed_time / 60)\n",
    "    elapsed_secs = int(elapsed_time - (elapsed_mins * 60))\n",
    "    return elapsed_mins, elapsed_secs"
   ]
  },
  {
   "cell_type": "code",
   "execution_count": 60,
   "id": "bd6a1e20-4491-494a-8985-5c19124dcd5c",
   "metadata": {},
   "outputs": [
    {
     "name": "stdout",
     "output_type": "stream",
     "text": [
      "Epoch: 1000 | cost: 4.006770 | time: 0m 0s\n",
      "Epoch: 2000 | cost: 3.263216 | time: 0m 0s\n",
      "Epoch: 3000 | cost: 2.961359 | time: 0m 0s\n",
      "Epoch: 4000 | cost: 3.084349 | time: 0m 0s\n",
      "Epoch: 5000 | cost: 3.035626 | time: 0m 0s\n"
     ]
    }
   ],
   "source": [
    "import time\n",
    "\n",
    "# Training\n",
    "num_epochs = 5000\n",
    "for epoch in range(num_epochs):\n",
    "    \n",
    "    start = time.time()\n",
    "    \n",
    "    input_batch, target_batch = random_batch(batch_size, corpus)\n",
    "    \n",
    "    #input_batch: [batch_size, 1]\n",
    "    input_batch = torch.LongTensor(input_batch)\n",
    "    \n",
    "    #target_batch: [batch_size, 1]\n",
    "    target_batch = torch.LongTensor(target_batch)\n",
    "    \n",
    "    #negs_batch:   [batch_size, num_neg]\n",
    "    negs_batch = negative_sampling(target_batch, unigram_table, num_neg)\n",
    "    \n",
    "    optimizer.zero_grad()\n",
    "        \n",
    "    loss = model(input_batch, target_batch, negs_batch)\n",
    "    \n",
    "    end = time.time()\n",
    "    \n",
    "    epoch_mins, epoch_secs = epoch_time(start, end)\n",
    "    \n",
    "    loss.backward()\n",
    "    optimizer.step()\n",
    "\n",
    "    if (epoch + 1) % 1000 == 0:\n",
    "        print(f\"Epoch: {epoch + 1} | cost: {loss:.6f} | time: {epoch_mins}m {epoch_secs}s\")"
   ]
  },
  {
   "cell_type": "markdown",
   "id": "b51f0405-b47e-4bca-a71b-6954540ab05a",
   "metadata": {},
   "source": [
    "## Visualizing the Embeddings"
   ]
  },
  {
   "cell_type": "code",
   "execution_count": 61,
   "id": "96a6d0a9-d860-4267-8f9c-01decf257dcc",
   "metadata": {},
   "outputs": [
    {
     "data": {
      "text/plain": [
       "['apple', 'cat', 'animal', 'banana', 'fruit', 'dog', '<UNK>']"
      ]
     },
     "execution_count": 61,
     "metadata": {},
     "output_type": "execute_result"
    }
   ],
   "source": [
    "#list of vocabs\n",
    "vocab[:10]"
   ]
  },
  {
   "cell_type": "code",
   "execution_count": 62,
   "id": "c021dcea-76c3-4978-97ce-4df474d247f8",
   "metadata": {},
   "outputs": [],
   "source": [
    "word = vocab[0]"
   ]
  },
  {
   "cell_type": "code",
   "execution_count": 63,
   "id": "976ceca8-e29d-453d-9716-1a4fe7fe5a4b",
   "metadata": {},
   "outputs": [
    {
     "data": {
      "text/plain": [
       "0"
      ]
     },
     "execution_count": 63,
     "metadata": {},
     "output_type": "execute_result"
    }
   ],
   "source": [
    "#numericalization\n",
    "id = word2index[word]\n",
    "id"
   ]
  },
  {
   "cell_type": "code",
   "execution_count": 64,
   "id": "40b2551a-0213-4c77-af0a-90e007f597be",
   "metadata": {},
   "outputs": [
    {
     "data": {
      "text/plain": [
       "tensor([0])"
      ]
     },
     "execution_count": 64,
     "metadata": {},
     "output_type": "execute_result"
    }
   ],
   "source": [
    "id_tensor = torch.LongTensor([id])\n",
    "id_tensor"
   ]
  },
  {
   "cell_type": "code",
   "execution_count": 65,
   "id": "375564a1-252a-448e-b634-79496b7857f3",
   "metadata": {},
   "outputs": [
    {
     "data": {
      "text/plain": [
       "(tensor([[1.0258, 0.9012]], grad_fn=<EmbeddingBackward0>),\n",
       " tensor([[-1.6889,  0.3168]], grad_fn=<EmbeddingBackward0>))"
      ]
     },
     "execution_count": 65,
     "metadata": {},
     "output_type": "execute_result"
    }
   ],
   "source": [
    "#get the embedding by averaging\n",
    "v_embed = model.embedding_v(id_tensor)\n",
    "u_embed = model.embedding_u(id_tensor)\n",
    "\n",
    "v_embed, u_embed"
   ]
  },
  {
   "cell_type": "code",
   "execution_count": 66,
   "id": "908a444a-1cae-4e72-b99b-c5f12d4e19fd",
   "metadata": {},
   "outputs": [],
   "source": [
    "#let's write a function to get embedding given a word\n",
    "def get_embed(word):\n",
    "    id_tensor = torch.LongTensor([word2index[word]])\n",
    "    v_embed = model.embedding_v(id_tensor)\n",
    "    u_embed = model.embedding_u(id_tensor) \n",
    "    word_embed = (v_embed + u_embed) / 2 \n",
    "    x, y = word_embed[0][0].item(), word_embed[0][1].item()\n",
    "\n",
    "    return x, y"
   ]
  },
  {
   "cell_type": "code",
   "execution_count": 77,
   "id": "9d6c418d-ada6-41ac-abdb-f434d17a915f",
   "metadata": {},
   "outputs": [
    {
     "data": {
      "image/png": "[encoded data removed]",
      "text/plain": [
       "<Figure size 600x300 with 1 Axes>"
      ]
     },
     "metadata": {},
     "output_type": "display_data"
    }
   ],
   "source": [
    "# 1. Add '<UNK>' to word2index if missing\n",
    "if '<UNK>' not in word2index:\n",
    "    word2index['<UNK>'] = len(word2index)\n",
    "\n",
    "# 2. Update voc_size to match word2index\n",
    "voc_size = len(word2index)\n",
    "\n",
    "# 3. Reinitialize the model (if needed)\n",
    "model = SkipgramNegSampling(voc_size, embedding_size)\n",
    "\n",
    "# 4. Now the plotting code should work\n",
    "plt.figure(figsize=(6,3))\n",
    "for word in vocab[:20]:  # Loop through vocab (including '<UNK>')\n",
    "    try:\n",
    "        x, y = get_embed(word)\n",
    "        plt.scatter(x, y)\n",
    "        plt.annotate(word, xy=(x, y), xytext=(5, 2), textcoords='offset points')\n",
    "    except IndexError:\n",
    "        print(f\"Skipping word '{word}' (index out of range)\")\n",
    "plt.show()"
   ]
  },
  {
   "cell_type": "markdown",
   "id": "ee399bbd-fcda-4656-badc-ea5ec7768cdd",
   "metadata": {},
   "source": [
    "## Cosine Similarity"
   ]
  },
  {
   "cell_type": "code",
   "execution_count": 68,
   "id": "c5a17858-4f00-4455-91b0-3983267b6e25",
   "metadata": {},
   "outputs": [
    {
     "data": {
      "text/plain": [
       "['apple', 'cat', 'animal', 'banana', 'fruit', 'dog', '<UNK>']"
      ]
     },
     "execution_count": 68,
     "metadata": {},
     "output_type": "execute_result"
    }
   ],
   "source": [
    "vocab"
   ]
  },
  {
   "cell_type": "code",
   "execution_count": 69,
   "id": "8b4f9705-a0cd-4313-b6f1-44621bbec4af",
   "metadata": {},
   "outputs": [],
   "source": [
    "#let's try similarity between first and second, and second and third\n",
    "cat          = get_embed('cat')\n",
    "fruit        = get_embed('fruit')\n",
    "animal       = get_embed('animal')"
   ]
  },
  {
   "cell_type": "code",
   "execution_count": 70,
   "id": "50093594-f5ad-436b-a8c2-858337fd5f30",
   "metadata": {},
   "outputs": [
    {
     "name": "stdout",
     "output_type": "stream",
     "text": [
      "cat vs. fruit:  -0.9805569660990876\n",
      "cat vs. animal:  0.9984822148796206\n",
      "cat vs. cat:  1.0000000000000002\n"
     ]
    }
   ],
   "source": [
    "#numpy version\n",
    "from numpy import dot\n",
    "from numpy.linalg import norm\n",
    "\n",
    "def cos_sim(a, b):\n",
    "    cos_sim = dot(a, b)/(norm(a)*norm(b))\n",
    "    return cos_sim\n",
    "    \n",
    "print(f\"cat vs. fruit: \",        cos_sim(cat, fruit))\n",
    "print(f\"cat vs. animal: \",       cos_sim(cat, animal))\n",
    "print(f\"cat vs. cat: \",          cos_sim(cat, cat))"
   ]
  },
  {
   "cell_type": "code",
   "execution_count": 71,
   "id": "d5b4a9d7-1b15-4e38-a4a2-f5954d11a696",
   "metadata": {},
   "outputs": [
    {
     "name": "stdout",
     "output_type": "stream",
     "text": [
      "cat vs. fruit:  -0.9805569660990876\n",
      "cat vs. animal:  0.9984822148796206\n",
      "cat vs. cat:  1.0\n"
     ]
    }
   ],
   "source": [
    "#scipy version\n",
    "from scipy import spatial\n",
    "\n",
    "def cos_sim(a, b):\n",
    "    cos_sim = 1 - spatial.distance.cosine(a, b)  #distance = 1 - similarlity, because scipy only gives distance\n",
    "    return cos_sim\n",
    "\n",
    "print(f\"cat vs. fruit: \",        cos_sim(cat, fruit))\n",
    "print(f\"cat vs. animal: \",       cos_sim(cat, animal))\n",
    "print(f\"cat vs. cat: \",          cos_sim(cat, cat))"
   ]
  },
  {
   "cell_type": "code",
   "execution_count": 72,
   "id": "987f3d34-d837-404f-834d-868af99ee021",
   "metadata": {},
   "outputs": [],
   "source": [
    "def get_embed(word):\n",
    "    id_tensor = torch.LongTensor([word2index[word]])\n",
    "    v_embed = model.embedding_v(id_tensor)\n",
    "    u_embed = model.embedding_u(id_tensor)\n",
    "    word_embed = (v_embed + u_embed) / 2\n",
    "    word_embed = F.normalize(word_embed, p=2, dim=1)  # Normalize\n",
    "    return word_embed.squeeze(0).detach().numpy()  # Return as numpy array"
   ]
  },
  {
   "cell_type": "code",
   "execution_count": 73,
   "id": "243b5c09-1010-47c3-a060-f852e6001962",
   "metadata": {},
   "outputs": [
    {
     "name": "stdout",
     "output_type": "stream",
     "text": [
      "cat vs. fruit: -0.9805569064285233\n",
      "cat vs. animal: 0.9984822274159075\n"
     ]
    }
   ],
   "source": [
    "# Compute cosine similarity\n",
    "cat = get_embed('cat')\n",
    "fruit = get_embed('fruit')\n",
    "animal = get_embed('animal')\n",
    "print(\"cat vs. fruit:\",  cos_sim(cat, fruit))\n",
    "print(\"cat vs. animal:\", cos_sim(cat, animal))"
   ]
  }
 ],
 "metadata": {
  "kernelspec": {
   "display_name": "TensorFlow Environment",
   "language": "python",
   "name": "tf-env"
  },
  "language_info": {
   "codemirror_mode": {
    "name": "ipython",
    "version": 3
   },
   "file_extension": ".py",
   "mimetype": "text/x-python",
   "name": "python",
   "nbconvert_exporter": "python",
   "pygments_lexer": "ipython3",
   "version": "3.9.18"
  }
 },
 "nbformat": 4,
 "nbformat_minor": 5
}
