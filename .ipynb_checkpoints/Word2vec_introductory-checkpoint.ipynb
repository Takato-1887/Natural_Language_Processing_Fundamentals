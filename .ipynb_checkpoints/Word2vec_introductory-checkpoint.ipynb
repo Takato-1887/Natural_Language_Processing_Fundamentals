{
 "cells": [
  {
   "cell_type": "code",
   "execution_count": 1,
   "id": "71f80d8e-a58b-4387-9d69-74f0b129bab2",
   "metadata": {},
   "outputs": [],
   "source": [
    "import pandas as pd\n",
    "import numpy as np"
   ]
  },
  {
   "cell_type": "code",
   "execution_count": 2,
   "id": "8009e67f-3b3a-4445-8573-c41442f031a0",
   "metadata": {},
   "outputs": [
    {
     "name": "stdout",
     "output_type": "stream",
     "text": [
      "TensorFlow version: 2.10.0\n"
     ]
    }
   ],
   "source": [
    "import tensorflow as tf\n",
    "\n",
    "# Check TensorFlow version\n",
    "print(f\"TensorFlow version: {tf.__version__}\")\n"
   ]
  },
  {
   "cell_type": "code",
   "execution_count": 3,
   "id": "04af8385-91f0-4f53-ac0f-5431dd015446",
   "metadata": {},
   "outputs": [],
   "source": [
    "import torch\n",
    "import torch.nn as nn\n",
    "import torch.optim as optim\n",
    "import matplotlib.pyplot as plt"
   ]
  },
  {
   "cell_type": "code",
   "execution_count": 4,
   "id": "b97d559a-5e60-4e3f-b3e8-2734e150b154",
   "metadata": {},
   "outputs": [
    {
     "name": "stdout",
     "output_type": "stream",
     "text": [
      "PyTorch version: 2.3.1+cpu\n"
     ]
    }
   ],
   "source": [
    "# Check PyTorch version\n",
    "print(f\"PyTorch version: {torch.__version__}\")\n"
   ]
  },
  {
   "cell_type": "markdown",
   "id": "892b8c7c-f53f-4a84-b46c-efa992d62524",
   "metadata": {},
   "source": [
    "## Loading the Data"
   ]
  },
  {
   "cell_type": "code",
   "execution_count": 5,
   "id": "da215ab2-0816-4e8f-8bbf-2dc16faf96e9",
   "metadata": {},
   "outputs": [],
   "source": [
    "corpus = [\"apple banana fruit\", \"banana apple fruit\", \"banana fruit apple\",\n",
    "          \"dog cat animal\", \"cat animal dog\", \"cat dog animal\"]"
   ]
  },
  {
   "cell_type": "code",
   "execution_count": 6,
   "id": "7a209f65-b363-4d48-ada6-d5ccbd2d640f",
   "metadata": {},
   "outputs": [
    {
     "data": {
      "text/plain": [
       "[['apple', 'banana', 'fruit'],\n",
       " ['banana', 'apple', 'fruit'],\n",
       " ['banana', 'fruit', 'apple'],\n",
       " ['dog', 'cat', 'animal'],\n",
       " ['cat', 'animal', 'dog'],\n",
       " ['cat', 'dog', 'animal']]"
      ]
     },
     "execution_count": 6,
     "metadata": {},
     "output_type": "execute_result"
    }
   ],
   "source": [
    "#1. tokenization by each word\n",
    "corpus = [sent.split(\" \") for sent in corpus]\n",
    "corpus"
   ]
  },
  {
   "cell_type": "code",
   "execution_count": 7,
   "id": "bd872af2-e6d5-441e-a58c-ea8e96aa3e65",
   "metadata": {},
   "outputs": [],
   "source": [
    "#2. numeralization\n",
    "flatten = lambda l: [item for sublist in l for item in sublist] #function to concat lists\n",
    "vocabs = list(set(flatten(corpus))) #find and store unique words"
   ]
  },
  {
   "cell_type": "code",
   "execution_count": 8,
   "id": "468627df-6183-42a1-bdf1-1092c79a30f3",
   "metadata": {},
   "outputs": [
    {
     "data": {
      "text/plain": [
       "['banana', 'animal', 'apple', 'cat', 'dog', 'fruit']"
      ]
     },
     "execution_count": 8,
     "metadata": {},
     "output_type": "execute_result"
    }
   ],
   "source": [
    "vocabs"
   ]
  },
  {
   "cell_type": "code",
   "execution_count": 9,
   "id": "c0668ca5-6200-4eb9-be84-85998b51aa61",
   "metadata": {},
   "outputs": [],
   "source": [
    "word2index = {val:index for index, val in enumerate(vocabs)} #create dict with words and their indexes"
   ]
  },
  {
   "cell_type": "code",
   "execution_count": 10,
   "id": "e2ddc3b1-14ac-4cea-9861-376fd0484bfc",
   "metadata": {},
   "outputs": [
    {
     "data": {
      "text/plain": [
       "{'banana': 0, 'animal': 1, 'apple': 2, 'cat': 3, 'dog': 4, 'fruit': 5}"
      ]
     },
     "execution_count": 10,
     "metadata": {},
     "output_type": "execute_result"
    }
   ],
   "source": [
    "word2index"
   ]
  },
  {
   "cell_type": "code",
   "execution_count": 11,
   "id": "2c85666a-9603-42b6-b9dc-d3475f031445",
   "metadata": {},
   "outputs": [],
   "source": [
    "#The \"<UNK>\" token stands for \"unknown\" and is used to handle words that are not in our vocabulary\n",
    "vocabs.append('<UNK>')\n",
    "word2index['<UNK>'] = 6"
   ]
  },
  {
   "cell_type": "code",
   "execution_count": 12,
   "id": "f567c5af-4796-4d4c-ae39-a6d7f1b90f0f",
   "metadata": {},
   "outputs": [
    {
     "data": {
      "text/plain": [
       "'fruit'"
      ]
     },
     "execution_count": 12,
     "metadata": {},
     "output_type": "execute_result"
    }
   ],
   "source": [
    "#creating reverse dictionary to map indices back to words\n",
    "index2word = {word:index for index, word in word2index.items()}\n",
    "index2word[5]"
   ]
  },
  {
   "cell_type": "markdown",
   "id": "64b9c65c-ee2b-4fa6-8ad3-cf831391b271",
   "metadata": {},
   "source": [
    "## Preparing data for training"
   ]
  },
  {
   "cell_type": "code",
   "execution_count": 13,
   "id": "d0df2be1-d45c-42d0-a781-13aeb32b6e91",
   "metadata": {},
   "outputs": [],
   "source": [
    "#create pairs of center word, and outside word\n",
    "\n",
    "def random_batch(batch_size, corpus):\n",
    "\n",
    "    skipgrams = []\n",
    "\n",
    "   \n",
    "    for doc in corpus:\n",
    "        \n",
    "        for i in range(1, len(doc)-1):\n",
    "            \n",
    "            center = word2index[doc[i]]\n",
    "            \n",
    "            outside = (word2index[doc[i-1]], word2index[doc[i+1]])\n",
    "           \n",
    "            for each_out in outside:\n",
    "                skipgrams.append([center, each_out])\n",
    "                \n",
    "                \n",
    "    random_index = np.random.choice(range(len(skipgrams)), batch_size, replace=False)\n",
    "    \n",
    "    inputs, labels = [], []\n",
    "    for index in random_index:\n",
    "        inputs.append([skipgrams[index][0]])\n",
    "        labels.append([skipgrams[index][1]])\n",
    "        \n",
    "    return np.array(inputs), np.array(labels)"
   ]
  },
  {
   "cell_type": "code",
   "execution_count": 14,
   "id": "5c3f60ea-9315-41f4-85b9-38a177ce8171",
   "metadata": {},
   "outputs": [],
   "source": [
    "x, y = random_batch(2, corpus)"
   ]
  },
  {
   "cell_type": "code",
   "execution_count": 15,
   "id": "7b76c747-401c-48f7-8afd-f62e098ef723",
   "metadata": {},
   "outputs": [
    {
     "data": {
      "text/plain": [
       "array([[5],\n",
       "       [5]])"
      ]
     },
     "execution_count": 15,
     "metadata": {},
     "output_type": "execute_result"
    }
   ],
   "source": [
    "x"
   ]
  },
  {
   "cell_type": "code",
   "execution_count": 16,
   "id": "4c9fac9d-389d-40e9-8b20-26d96396f6de",
   "metadata": {},
   "outputs": [
    {
     "data": {
      "text/plain": [
       "array([[2],\n",
       "       [0]])"
      ]
     },
     "execution_count": 16,
     "metadata": {},
     "output_type": "execute_result"
    }
   ],
   "source": [
    "y"
   ]
  },
  {
   "cell_type": "markdown",
   "id": "b0441ea6-366e-4a77-bea6-5a97fb102071",
   "metadata": {},
   "source": [
    "## Model"
   ]
  },
  {
   "cell_type": "code",
   "execution_count": 17,
   "id": "36f75471-559d-4c28-8343-674dbaa0ea20",
   "metadata": {},
   "outputs": [
    {
     "data": {
      "text/plain": [
       "7"
      ]
     },
     "execution_count": 17,
     "metadata": {},
     "output_type": "execute_result"
    }
   ],
   "source": [
    "len(vocabs)"
   ]
  },
  {
   "cell_type": "code",
   "execution_count": 18,
   "id": "24dbecee-9271-4b86-b276-eab9b46eac7a",
   "metadata": {},
   "outputs": [],
   "source": [
    "embedding = nn.Embedding(7, 2)"
   ]
  },
  {
   "cell_type": "code",
   "execution_count": 19,
   "id": "4147e38f-3e42-4198-9801-3f01e18f3616",
   "metadata": {},
   "outputs": [
    {
     "data": {
      "text/plain": [
       "torch.Size([2, 1, 2])"
      ]
     },
     "execution_count": 19,
     "metadata": {},
     "output_type": "execute_result"
    }
   ],
   "source": [
    "x_tensor = torch.LongTensor(x)\n",
    "embedding(x_tensor).shape"
   ]
  },
  {
   "cell_type": "code",
   "execution_count": 20,
   "id": "ddd884f4-59e8-495d-a721-51e031c90d87",
   "metadata": {},
   "outputs": [],
   "source": [
    "class Skipgram(nn.Module):\n",
    "    \n",
    "    def __init__(self, voc_size, emb_size):\n",
    "        super(Skipgram, self).__init__()\n",
    "        self.embedding_center  = nn.Embedding(voc_size, emb_size)\n",
    "        self.embedding_outside = nn.Embedding(voc_size, emb_size)\n",
    "    \n",
    "    def forward(self, center, outside, all_vocabs):\n",
    "        center_embedding     = self.embedding_center(center)  #(batch_size, 1, emb_size)\n",
    "        outside_embedding    = self.embedding_center(outside) #(batch_size, 1, emb_size)\n",
    "        all_vocabs_embedding = self.embedding_center(all_vocabs) #(batch_size, voc_size, emb_size)\n",
    "        \n",
    "        top_term = torch.exp(outside_embedding.bmm(center_embedding.transpose(1, 2)).squeeze(2))\n",
    "        #batch_size, 1, emb_size) @ (batch_size, emb_size, 1) = (batch_size, 1, 1) = (batch_size, 1) \n",
    "\n",
    "        lower_term = all_vocabs_embedding.bmm(center_embedding.transpose(1, 2)).squeeze(2)\n",
    "        #batch_size, voc_size, emb_size) @ (batch_size, emb_size, 1) = (batch_size, voc_size, 1) = (batch_size, voc_size) \n",
    "        \n",
    "        lower_term_sum = torch.sum(torch.exp(lower_term), 1)  #(batch_size, 1)\n",
    "        \n",
    "        loss = -torch.mean(torch.log(top_term / lower_term_sum))  #scalar\n",
    "        \n",
    "        return loss"
   ]
  },
  {
   "cell_type": "code",
   "execution_count": 21,
   "id": "b77576c6-7fcb-419f-ba8d-3a7aba7062bb",
   "metadata": {},
   "outputs": [
    {
     "data": {
      "text/plain": [
       "tensor([[0, 1, 2, 3, 4, 5, 6],\n",
       "        [0, 1, 2, 3, 4, 5, 6]])"
      ]
     },
     "execution_count": 21,
     "metadata": {},
     "output_type": "execute_result"
    }
   ],
   "source": [
    "#prepare all vocabs\n",
    "\n",
    "batch_size = 2\n",
    "voc_size   = len(vocabs)\n",
    "\n",
    "def prepare_sequence(seq, word2index):\n",
    "    idxs = list(map(lambda w: word2index[w] if word2index.get(w) is not None else word2index[\"<UNK>\"], seq))\n",
    "    return torch.LongTensor(idxs)\n",
    "\n",
    "all_vocabs = prepare_sequence(list(vocabs), word2index).expand(batch_size, voc_size)\n",
    "all_vocabs"
   ]
  },
  {
   "cell_type": "code",
   "execution_count": 22,
   "id": "d1bc6577-1493-4cab-97c8-aa8eed83740e",
   "metadata": {},
   "outputs": [
    {
     "data": {
      "text/plain": [
       "Skipgram(\n",
       "  (embedding_center): Embedding(7, 2)\n",
       "  (embedding_outside): Embedding(7, 2)\n",
       ")"
      ]
     },
     "execution_count": 22,
     "metadata": {},
     "output_type": "execute_result"
    }
   ],
   "source": [
    "model = Skipgram(voc_size, 2)\n",
    "model"
   ]
  },
  {
   "cell_type": "code",
   "execution_count": 23,
   "id": "ebe0915c-84f7-4fad-b3ab-7d4261c08deb",
   "metadata": {},
   "outputs": [],
   "source": [
    "input_tensor = torch.LongTensor(x)\n",
    "label_tensor = torch.LongTensor(y)"
   ]
  },
  {
   "cell_type": "code",
   "execution_count": 24,
   "id": "4d8f6ec3-93e1-4e02-9f23-d88561a8693b",
   "metadata": {},
   "outputs": [],
   "source": [
    "loss = model(input_tensor, label_tensor, all_vocabs)"
   ]
  },
  {
   "cell_type": "code",
   "execution_count": 25,
   "id": "0a39beae-0f49-419c-9633-8f8419c0e9d4",
   "metadata": {},
   "outputs": [
    {
     "data": {
      "text/plain": [
       "tensor(2.6797, grad_fn=<NegBackward0>)"
      ]
     },
     "execution_count": 25,
     "metadata": {},
     "output_type": "execute_result"
    }
   ],
   "source": [
    "loss"
   ]
  },
  {
   "cell_type": "markdown",
   "id": "c4274b57-c2c8-46f1-b0dd-4d6700cb524a",
   "metadata": {},
   "source": [
    "## Model Training"
   ]
  },
  {
   "cell_type": "code",
   "execution_count": 26,
   "id": "2d15ac8f-6635-4504-9340-2d49b2be0ced",
   "metadata": {},
   "outputs": [],
   "source": [
    "batch_size = 2\n",
    "emb_size   = 2\n",
    "model      = Skipgram(voc_size, emb_size)\n",
    "optimizer  = optim.Adam(model.parameters(), lr=0.001)"
   ]
  },
  {
   "cell_type": "code",
   "execution_count": 27,
   "id": "89698c5b-c721-4453-9658-321658afc39f",
   "metadata": {},
   "outputs": [
    {
     "name": "stdout",
     "output_type": "stream",
     "text": [
      "Epoch   1000 | Loss: 1.40919\n",
      "Epoch   2000 | Loss: 1.18587\n",
      "Epoch   3000 | Loss: 1.18712\n",
      "Epoch   4000 | Loss: 1.15056\n",
      "Epoch   5000 | Loss: 1.11883\n",
      "Epoch   6000 | Loss: 1.11749\n",
      "Epoch   7000 | Loss: 1.12734\n",
      "Epoch   8000 | Loss: 1.06821\n",
      "Epoch   9000 | Loss: 1.11737\n",
      "Epoch  10000 | Loss: 1.08709\n"
     ]
    }
   ],
   "source": [
    "num_epochs = 10000\n",
    "\n",
    "for epoch in range(num_epochs):\n",
    "    \n",
    "    #get batch\n",
    "    input_batch, label_batch = random_batch(batch_size, corpus)\n",
    "    input_tensor = torch.LongTensor(input_batch)\n",
    "    label_tensor = torch.LongTensor(label_batch)\n",
    "    \n",
    "    #predict\n",
    "    loss = model(input_tensor, label_tensor, all_vocabs)\n",
    "    \n",
    "    #backprogate\n",
    "    optimizer.zero_grad()\n",
    "    loss.backward()\n",
    "    \n",
    "    #update alpha\n",
    "    optimizer.step()\n",
    "    \n",
    "    #print the loss\n",
    "    if (epoch + 1) % 1000 == 0:\n",
    "        print(f\"Epoch {epoch+1:6.0f} | Loss: {loss:2.5f}\")"
   ]
  },
  {
   "cell_type": "markdown",
   "id": "4a9e2f8a-aeec-4c88-b0c4-35d22a739de7",
   "metadata": {},
   "source": [
    "## Plotting the Embeddings"
   ]
  },
  {
   "cell_type": "code",
   "execution_count": 28,
   "id": "81b8d131-de7c-4278-8f5f-4d1c4254de39",
   "metadata": {},
   "outputs": [
    {
     "data": {
      "text/plain": [
       "['banana', 'animal', 'apple', 'cat', 'dog', 'fruit', '<UNK>']"
      ]
     },
     "execution_count": 28,
     "metadata": {},
     "output_type": "execute_result"
    }
   ],
   "source": [
    "vocabs\n"
   ]
  },
  {
   "cell_type": "code",
   "execution_count": 29,
   "id": "f1ce67f4-61d8-4096-a8f7-e5c8c6d98295",
   "metadata": {},
   "outputs": [
    {
     "data": {
      "text/plain": [
       "tensor([0])"
      ]
     },
     "execution_count": 29,
     "metadata": {},
     "output_type": "execute_result"
    }
   ],
   "source": [
    "banana = torch.LongTensor([word2index['banana']])\n",
    "banana"
   ]
  },
  {
   "cell_type": "code",
   "execution_count": 30,
   "id": "927ba450-c870-4197-bbfb-5fb575594e1d",
   "metadata": {},
   "outputs": [
    {
     "data": {
      "text/plain": [
       "tensor([[0.9385, 0.8408]], grad_fn=<DivBackward0>)"
      ]
     },
     "execution_count": 30,
     "metadata": {},
     "output_type": "execute_result"
    }
   ],
   "source": [
    "banana_embed_c = model.embedding_center(banana)\n",
    "banana_embed_o = model.embedding_outside(banana)\n",
    "banana_embed   = (banana_embed_c + banana_embed_o) / 2\n",
    "banana_embed"
   ]
  },
  {
   "cell_type": "code",
   "execution_count": 31,
   "id": "c61ec2b7-3165-49cb-a3be-e30f0342ae7a",
   "metadata": {},
   "outputs": [
    {
     "data": {
      "text/plain": [
       "tensor([[1.2167, 0.1454]], grad_fn=<EmbeddingBackward0>)"
      ]
     },
     "execution_count": 31,
     "metadata": {},
     "output_type": "execute_result"
    }
   ],
   "source": [
    "banana_embed_o"
   ]
  },
  {
   "cell_type": "code",
   "execution_count": 32,
   "id": "9d89ae30-795e-4b4e-be02-5aba084e3a7c",
   "metadata": {},
   "outputs": [],
   "source": [
    "def get_embed(word):\n",
    "    try:\n",
    "        index = word2index[word]\n",
    "    except:\n",
    "        index = word2index['<UNK>']\n",
    "        \n",
    "    word = torch.LongTensor([word2index[word]])\n",
    "    \n",
    "    embed_c = model.embedding_center(word)\n",
    "    embed_o = model.embedding_outside(word)\n",
    "    embed   = (embed_c + embed_o) / 2\n",
    "    \n",
    "    return embed[0][0].item(), embed[0][1].item()"
   ]
  },
  {
   "cell_type": "code",
   "execution_count": 33,
   "id": "6b77f8e6-a30b-48f6-a580-1180830cb287",
   "metadata": {},
   "outputs": [
    {
     "data": {
      "image/png": "[encoded data removed]",
      "text/plain": [
       "<Figure size 600x300 with 1 Axes>"
      ]
     },
     "metadata": {},
     "output_type": "display_data"
    }
   ],
   "source": [
    "plt.figure(figsize=(6, 3))\n",
    "for i, word in enumerate(vocabs):\n",
    "    x, y = get_embed(word)\n",
    "    plt.scatter(x, y)\n",
    "    plt.annotate(word, xy=(x, y), xytext=(5, 2), textcoords='offset points')\n",
    "plt.show()"
   ]
  },
  {
   "cell_type": "code",
   "execution_count": 34,
   "id": "f8c6d040-b95d-4575-8bc6-d444652dcc58",
   "metadata": {},
   "outputs": [
    {
     "data": {
      "text/plain": [
       "(0.9385332465171814, 0.8408367037773132)"
      ]
     },
     "execution_count": 34,
     "metadata": {},
     "output_type": "execute_result"
    }
   ],
   "source": [
    "banana = get_embed('banana')\n",
    "banana"
   ]
  },
  {
   "cell_type": "code",
   "execution_count": 35,
   "id": "61f9164f-1367-4890-91a0-88f1844de184",
   "metadata": {},
   "outputs": [
    {
     "data": {
      "text/plain": [
       "(0.593298077583313, 0.8687606453895569)"
      ]
     },
     "execution_count": 35,
     "metadata": {},
     "output_type": "execute_result"
    }
   ],
   "source": [
    "fruit = get_embed('fruit')\n",
    "fruit"
   ]
  },
  {
   "cell_type": "code",
   "execution_count": 36,
   "id": "0ec890c3-ae80-42de-bf86-7b6c82c7b6a2",
   "metadata": {},
   "outputs": [
    {
     "data": {
      "text/plain": [
       "(0.3157683312892914, -1.46525239944458)"
      ]
     },
     "execution_count": 36,
     "metadata": {},
     "output_type": "execute_result"
    }
   ],
   "source": [
    "unk = get_embed('<UNK>')\n",
    "unk"
   ]
  },
  {
   "cell_type": "markdown",
   "id": "52fdf1cb-9d50-47ac-81e8-a47e1fdb46fe",
   "metadata": {},
   "source": [
    "## Implementing Cosine Similarity"
   ]
  },
  {
   "cell_type": "code",
   "execution_count": 37,
   "id": "20c1be61-9c6e-4c2f-9665-313c6e39cbde",
   "metadata": {},
   "outputs": [
    {
     "name": "stdout",
     "output_type": "stream",
     "text": [
      "-0.4953953406515338\n",
      "0.971082033103944\n"
     ]
    }
   ],
   "source": [
    "#more formally is to divide by its norm\n",
    "def cosine_similarity(A, B):\n",
    "    dot_product = np.dot(A, B)\n",
    "    norm_a = np.linalg.norm(A)\n",
    "    norm_b = np.linalg.norm(B)\n",
    "    similarity = dot_product / (norm_a * norm_b)\n",
    "    return similarity\n",
    "\n",
    "print(cosine_similarity(np.array(banana), np.array(unk)))\n",
    "print(cosine_similarity(np.array(banana), np.array(fruit)))"
   ]
  },
  {
   "cell_type": "code",
   "execution_count": 40,
   "id": "53bdbb24-09ab-477c-b3df-0c347e7703a4",
   "metadata": {},
   "outputs": [],
   "source": [
    "#implementating a more robust form of cosine similarity\n",
    "import numpy as np\n",
    "\n",
    "def improved_cosine_similarity(vec1, vec2):\n",
    "\n",
    "    vec1 = np.array(vec1, dtype=np.float32)\n",
    "    vec2 = np.array(vec2, dtype=np.float32)\n",
    "    \n",
    "    if len(vec1) != len(vec2):\n",
    "        raise ValueError(\"Vectors must have same length\")\n",
    "        \n",
    "    if np.all(vec1 == 0) or np.all(vec2 == 0):\n",
    "        return 0.0\n",
    "    \n",
    "    dot_product = np.dot(vec1, vec2)\n",
    "    \n",
    "    # Calculate magnitudes\n",
    "    norm_vec1 = np.linalg.norm(vec1)\n",
    "    norm_vec2 = np.linalg.norm(vec2)\n",
    "    \n",
    "    # Calculate cosine similarity\n",
    "    similarity = dot_product / (norm_vec1 * norm_vec2)\n",
    "    \n",
    "    # Handle possible floating point precision issues\n",
    "    similarity = np.clip(similarity, -1.0, 1.0)\n",
    "    \n",
    "    return similarity"
   ]
  },
  {
   "cell_type": "code",
   "execution_count": 43,
   "id": "e179da9a-5285-4e54-a738-7493cdc15c48",
   "metadata": {},
   "outputs": [
    {
     "name": "stdout",
     "output_type": "stream",
     "text": [
      "-0.49539536237716675\n",
      "0.9710819721221924\n"
     ]
    }
   ],
   "source": [
    "print(improved_cosine_similarity(np.array(banana), np.array(unk)))\n",
    "print(improved_cosine_similarity(np.array(banana), np.array(fruit)))"
   ]
  },
  {
   "cell_type": "code",
   "execution_count": 44,
   "id": "f638b16c-0c37-48af-9b2d-d67f7bb5f676",
   "metadata": {},
   "outputs": [
    {
     "data": {
      "image/png": "[encoded data removed]",
      "text/plain": [
       "<Figure size 800x400 with 1 Axes>"
      ]
     },
     "metadata": {},
     "output_type": "display_data"
    }
   ],
   "source": [
    "plt.figure(figsize=(8, 4))\n",
    "for i, word in enumerate(vocabs):\n",
    "    x, y = get_embed(word)\n",
    "    plt.scatter(x, y)\n",
    "    sim = improved_cosine_similarity([x,y], banana)  # Compare to banana\n",
    "    plt.annotate(f\"{word}\\n(sim: {sim:.2f}\", \n",
    "                xy=(x, y), \n",
    "                xytext=(5, 2), \n",
    "                textcoords='offset points')\n",
    "plt.title(\"Word Embeddings with Similarity to 'banana'\")\n",
    "plt.show()"
   ]
  }
 ],
 "metadata": {
  "kernelspec": {
   "display_name": "TensorFlow Environment",
   "language": "python",
   "name": "tf-env"
  },
  "language_info": {
   "codemirror_mode": {
    "name": "ipython",
    "version": 3
   },
   "file_extension": ".py",
   "mimetype": "text/x-python",
   "name": "python",
   "nbconvert_exporter": "python",
   "pygments_lexer": "ipython3",
   "version": "3.9.18"
  }
 },
 "nbformat": 4,
 "nbformat_minor": 5
}
