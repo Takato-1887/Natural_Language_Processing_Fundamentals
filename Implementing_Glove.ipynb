{
 "cells": [
  {
   "cell_type": "code",
   "execution_count": 1,
   "id": "fe990708-5165-4c6a-9822-ad4ae16e872c",
   "metadata": {},
   "outputs": [],
   "source": [
    "import numpy as np\n",
    "import torch\n",
    "import torch.nn as nn\n",
    "import torch.optim as optim\n",
    "import matplotlib.pyplot as plt"
   ]
  },
  {
   "cell_type": "markdown",
   "id": "1bb42905-a919-453c-b66c-f1bc145f6ece",
   "metadata": {},
   "source": [
    "## 1. Defining simple data for understanding"
   ]
  },
  {
   "cell_type": "code",
   "execution_count": 2,
   "id": "252b6289-71f0-4857-811e-a14892686fa0",
   "metadata": {},
   "outputs": [],
   "source": [
    "corpus = [\"apple banana fruit\", \"banana apple fruit\", \"banana fruit apple\",\n",
    "                 \"dog cat animal\", \"cat animal dog\", \"cat dog animal\"]"
   ]
  },
  {
   "cell_type": "code",
   "execution_count": 3,
   "id": "f162fa0c-95fb-451a-a7f3-af9fdcabdc12",
   "metadata": {},
   "outputs": [
    {
     "data": {
      "text/plain": [
       "[['apple', 'banana', 'fruit'],\n",
       " ['banana', 'apple', 'fruit'],\n",
       " ['banana', 'fruit', 'apple'],\n",
       " ['dog', 'cat', 'animal'],\n",
       " ['cat', 'animal', 'dog'],\n",
       " ['cat', 'dog', 'animal']]"
      ]
     },
     "execution_count": 3,
     "metadata": {},
     "output_type": "execute_result"
    }
   ],
   "source": [
    "corpus = [sent.split(\" \") for sent in corpus]\n",
    "corpus"
   ]
  },
  {
   "cell_type": "code",
   "execution_count": 4,
   "id": "da4b03e1-52a9-44a1-8201-48d8b1451085",
   "metadata": {},
   "outputs": [
    {
     "data": {
      "text/plain": [
       "['fruit', 'dog', 'animal', 'cat', 'banana', 'apple']"
      ]
     },
     "execution_count": 4,
     "metadata": {},
     "output_type": "execute_result"
    }
   ],
   "source": [
    "#get word sequences and unique words\n",
    "flatten = lambda l: [item for sublist in l for item in sublist]\n",
    "vocab = list(set(flatten(corpus)))\n",
    "vocab"
   ]
  },
  {
   "cell_type": "code",
   "execution_count": 5,
   "id": "167a9c63-4c7a-4417-bb26-71f1cee39700",
   "metadata": {},
   "outputs": [
    {
     "name": "stdout",
     "output_type": "stream",
     "text": [
      "{'fruit': 0, 'dog': 1, 'animal': 2, 'cat': 3, 'banana': 4, 'apple': 5}\n"
     ]
    }
   ],
   "source": [
    "#numerical transform\n",
    "word2index = {w: i for i, w in enumerate(vocab)}\n",
    "print(word2index)"
   ]
  },
  {
   "cell_type": "code",
   "execution_count": 14,
   "id": "35b88b43-ead8-4a25-87f1-3ed74d48c845",
   "metadata": {
    "scrolled": true
   },
   "outputs": [
    {
     "name": "stdout",
     "output_type": "stream",
     "text": [
      "7\n"
     ]
    }
   ],
   "source": [
    "#vocab size\n",
    "voc_size = len(vocab)\n",
    "print(voc_size)"
   ]
  },
  {
   "cell_type": "code",
   "execution_count": 7,
   "id": "2fa551fa-bac5-442c-84b1-aa33741453f0",
   "metadata": {},
   "outputs": [],
   "source": [
    "#append UNK\n",
    "vocab.append('<UNK>')"
   ]
  },
  {
   "cell_type": "code",
   "execution_count": 8,
   "id": "67a90b27-eaf4-4c85-bb95-cc315901f8ab",
   "metadata": {},
   "outputs": [
    {
     "data": {
      "text/plain": [
       "['fruit', 'dog', 'animal', 'cat', 'banana', 'apple', '<UNK>']"
      ]
     },
     "execution_count": 8,
     "metadata": {},
     "output_type": "execute_result"
    }
   ],
   "source": [
    "vocab"
   ]
  },
  {
   "cell_type": "code",
   "execution_count": 9,
   "id": "3c3265a5-fab5-4f74-bcc2-c86c7f4ff032",
   "metadata": {},
   "outputs": [],
   "source": [
    "word2index['<UNK>'] = 0"
   ]
  },
  {
   "cell_type": "code",
   "execution_count": 10,
   "id": "d1405759-74d3-489a-85a6-a32ec4140838",
   "metadata": {},
   "outputs": [],
   "source": [
    "#in case of requirement\n",
    "index2word = {v:k for k, v in word2index.items()} "
   ]
  },
  {
   "cell_type": "markdown",
   "id": "dfe8cf88-5c54-48e0-9c56-1d0858ca3cdf",
   "metadata": {},
   "source": [
    "## 2. Build Co-occurence Matrix X"
   ]
  },
  {
   "cell_type": "markdown",
   "id": "c6c755dd-0f89-4efe-bbb0-8448d84b9d5d",
   "metadata": {},
   "source": [
    "Here, we need to count the co-occurence of two words given some window size. We gonna use window size of 1."
   ]
  },
  {
   "cell_type": "code",
   "execution_count": 12,
   "id": "b9892a13-e381-4ea2-adad-fe015dff0ddc",
   "metadata": {},
   "outputs": [
    {
     "data": {
      "text/plain": [
       "Counter({'apple': 3, 'banana': 3, 'fruit': 3, 'dog': 3, 'cat': 3, 'animal': 3})"
      ]
     },
     "execution_count": 12,
     "metadata": {},
     "output_type": "execute_result"
    }
   ],
   "source": [
    "from collections import Counter\n",
    "\n",
    "X_i = Counter(flatten(corpus)) # X_i\n",
    "X_i"
   ]
  },
  {
   "cell_type": "code",
   "execution_count": 15,
   "id": "cf58a287-344d-49bc-b65a-9eee381d78fd",
   "metadata": {},
   "outputs": [
    {
     "data": {
      "text/plain": [
       "[('banana', 'apple'),\n",
       " ('banana', 'fruit'),\n",
       " ('apple', 'banana'),\n",
       " ('apple', 'fruit'),\n",
       " ('fruit', 'banana'),\n",
       " ('fruit', 'apple'),\n",
       " ('cat', 'dog'),\n",
       " ('cat', 'animal'),\n",
       " ('animal', 'cat'),\n",
       " ('animal', 'dog'),\n",
       " ('dog', 'cat'),\n",
       " ('dog', 'animal')]"
      ]
     },
     "execution_count": 15,
     "metadata": {},
     "output_type": "execute_result"
    }
   ],
   "source": [
    "# Make skip gram of one size window\n",
    "skip_grams = []\n",
    "# loop each word sequence\n",
    "# we starts from 1 because 0 has no context\n",
    "# we stop at second last for the same reason\n",
    "for sent in corpus:\n",
    "    for i in range(1, len(sent) - 1):\n",
    "        target = sent[i]\n",
    "        context = [sent[i - 1], sent[i + 1]]\n",
    "        for w in context:\n",
    "            skip_grams.append((target, w))\n",
    "\n",
    "skip_grams"
   ]
  },
  {
   "cell_type": "code",
   "execution_count": 16,
   "id": "09016a1e-87c9-408d-b5cd-8a2a11369fc2",
   "metadata": {},
   "outputs": [
    {
     "data": {
      "text/plain": [
       "Counter({('banana', 'apple'): 1,\n",
       "         ('banana', 'fruit'): 1,\n",
       "         ('apple', 'banana'): 1,\n",
       "         ('apple', 'fruit'): 1,\n",
       "         ('fruit', 'banana'): 1,\n",
       "         ('fruit', 'apple'): 1,\n",
       "         ('cat', 'dog'): 1,\n",
       "         ('cat', 'animal'): 1,\n",
       "         ('animal', 'cat'): 1,\n",
       "         ('animal', 'dog'): 1,\n",
       "         ('dog', 'cat'): 1,\n",
       "         ('dog', 'animal'): 1})"
      ]
     },
     "execution_count": 16,
     "metadata": {},
     "output_type": "execute_result"
    }
   ],
   "source": [
    "X_ik_skipgram = Counter(skip_grams) # Co-occurece in window size 1\n",
    "X_ik_skipgram"
   ]
  }
 ],
 "metadata": {
  "kernelspec": {
   "display_name": "TensorFlow Environment",
   "language": "python",
   "name": "tf-env"
  },
  "language_info": {
   "codemirror_mode": {
    "name": "ipython",
    "version": 3
   },
   "file_extension": ".py",
   "mimetype": "text/x-python",
   "name": "python",
   "nbconvert_exporter": "python",
   "pygments_lexer": "ipython3",
   "version": "3.9.18"
  }
 },
 "nbformat": 4,
 "nbformat_minor": 5
}
